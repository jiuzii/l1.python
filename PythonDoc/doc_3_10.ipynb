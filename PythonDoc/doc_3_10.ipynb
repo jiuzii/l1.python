{
 "cells": [
  {
   "cell_type": "markdown",
   "source": [
    "# 3.10版本官方文档\n",
    "## 2 Python 解释器\n",
    "通常位于 /usr/local/bin/python3.10目录下\n",
    "\n",
    "## 3 Python 速览\n",
    "### 3.1 用作计算器"
   ],
   "metadata": {
    "collapsed": false
   }
  },
  {
   "cell_type": "markdown",
   "source": [
    "+ 除法运算总是返回浮点数，使用// 进行floor division 计算余数使用%\n",
    "+ 使用 ** 进行平方运算\n",
    "+ 进行混合运算时会将整数转化为浮点数\n",
    "+ 交互模式下，上次输出的表达式会赋值给变量_\n"
   ],
   "metadata": {
    "collapsed": false
   }
  },
  {
   "cell_type": "code",
   "execution_count": 31,
   "outputs": [
    {
     "data": {
      "text/plain": "5"
     },
     "execution_count": 31,
     "metadata": {},
     "output_type": "execute_result"
    }
   ],
   "source": [
    "17//3"
   ],
   "metadata": {
    "collapsed": false
   }
  },
  {
   "cell_type": "code",
   "execution_count": null,
   "outputs": [],
   "source": [
    "17 % 3"
   ],
   "metadata": {
    "collapsed": false,
    "is_executing": true
   }
  },
  {
   "cell_type": "code",
   "execution_count": null,
   "outputs": [],
   "source": [
    "2 ** 7"
   ],
   "metadata": {
    "collapsed": false,
    "is_executing": true
   }
  },
  {
   "cell_type": "code",
   "execution_count": null,
   "outputs": [],
   "source": [
    "tax = 12.5/100\n",
    "price = 100.50\n",
    "price * tax"
   ],
   "metadata": {
    "collapsed": false,
    "is_executing": true
   }
  },
  {
   "cell_type": "code",
   "execution_count": null,
   "outputs": [],
   "source": [
    "price + _"
   ],
   "metadata": {
    "collapsed": false,
    "is_executing": true
   }
  },
  {
   "cell_type": "markdown",
   "source": [
    "#### 3.12 字符串操作\n",
    "+ 使用转义字符与使用r原始字符串\n",
    "+ 字符串可以使用+合并，可以使用*复制,相邻的字符串字面值会自动合并\n",
    "+ 索引从0开始，支持负数（从右边开始计数）\n",
    "+ 切片[:] 索引越界会报错，但是切片会自动处理\n",
    "+ 字符串不能修改，是immutable，len()返回长度\n",
    "\n"
   ],
   "metadata": {
    "collapsed": false
   }
  },
  {
   "cell_type": "code",
   "execution_count": null,
   "outputs": [],
   "source": [
    "print(' \\\"some thing\\\" ')"
   ],
   "metadata": {
    "collapsed": false,
    "is_executing": true
   }
  },
  {
   "cell_type": "code",
   "execution_count": 1,
   "outputs": [
    {
     "name": "stdout",
     "output_type": "stream",
     "text": [
      "r some \\thing\n"
     ]
    }
   ],
   "source": [
    "print( r'r some \\thing')"
   ],
   "metadata": {
    "collapsed": false,
    "ExecuteTime": {
     "end_time": "2023-11-14T12:10:32.526562100Z",
     "start_time": "2023-11-14T12:10:32.506544600Z"
    }
   }
  },
  {
   "cell_type": "code",
   "execution_count": 38,
   "outputs": [
    {
     "name": "stdout",
     "output_type": "stream",
     "text": [
      "P n n\n"
     ]
    }
   ],
   "source": [
    "'py'+'thon'\n",
    "3*'py'\n",
    "'123' '456'\n",
    "word = 'Python'\n",
    "print(word[0],word[5],word[-1])"
   ],
   "metadata": {
    "collapsed": false
   }
  },
  {
   "cell_type": "markdown",
   "source": [
    "#### 3.1.3 列表\n",
    "支持多种复合数据类型 可将不同值组合在一起，和字符串一样，也支持索引和切片,切片操作返回列表的浅拷贝\n",
    "+ 支持合并操作 使用+号即可\n",
    "+ 列表是mutable类型，可以修改\n",
    "+ append()在末尾添加元素\n",
    "+ 为切片赋值可以改变列表大小，甚至清空整个列表\n"
   ],
   "metadata": {
    "collapsed": false
   }
  },
  {
   "cell_type": "code",
   "execution_count": 39,
   "outputs": [
    {
     "data": {
      "text/plain": "[9, 16, 25]"
     },
     "execution_count": 39,
     "metadata": {},
     "output_type": "execute_result"
    }
   ],
   "source": [
    "squares = [1,4,9,16,25]\n",
    "squares[3]\n",
    "squares[-3:]"
   ],
   "metadata": {
    "collapsed": false
   }
  },
  {
   "cell_type": "code",
   "execution_count": 40,
   "outputs": [
    {
     "data": {
      "text/plain": "['a', 'b', 'f', 'g']"
     },
     "execution_count": 40,
     "metadata": {},
     "output_type": "execute_result"
    }
   ],
   "source": [
    "letters = ['a','b','c','d','e','f','g']\n",
    "letters[2:5] = []\n",
    "letters"
   ],
   "metadata": {
    "collapsed": false
   }
  },
  {
   "cell_type": "markdown",
   "source": [
    "## 4 控制流\n",
    "### 4.1 if\n"
   ],
   "metadata": {
    "collapsed": false
   }
  },
  {
   "cell_type": "code",
   "execution_count": 41,
   "outputs": [
    {
     "name": "stdout",
     "output_type": "stream",
     "text": [
      "good\n"
     ]
    }
   ],
   "source": [
    "x = int(input(\"enter an integer:\"))\n",
    "if x < 0:\n",
    "    print('error')\n",
    "elif x == 1:\n",
    "    print('good')\n",
    "else:\n",
    "    print('get more')"
   ],
   "metadata": {
    "collapsed": false
   }
  },
  {
   "cell_type": "markdown",
   "source": [
    "### 4.2 for\n",
    "+ 在列表或者字符串等任意序列的元素上迭代\n",
    "+ 无法在迭代时修改集合的大小\n",
    "\n"
   ],
   "metadata": {
    "collapsed": false
   }
  },
  {
   "cell_type": "code",
   "execution_count": 42,
   "outputs": [
    {
     "name": "stdout",
     "output_type": "stream",
     "text": [
      "cat 3\n",
      "windows 7\n",
      "other 5\n"
     ]
    }
   ],
   "source": [
    "words = ['cat','windows','other']\n",
    "for w in words:\n",
    "    print(w,len(w))\n"
   ],
   "metadata": {
    "collapsed": false
   }
  },
  {
   "cell_type": "markdown",
   "source": [
    "### 4.3 range()\n",
    "+ 内置函数用于生成等差数列\n",
    "+ 可以设置步长,默认起点是从0开始\n",
    "+ 使用range() 和len()来迭代索引\n",
    "+ range 返回的对象和列表很像，但是他和列表不一样，只有在被迭代时才一个个返回所期待的项，从而节省空间\n"
   ],
   "metadata": {
    "collapsed": false
   }
  },
  {
   "cell_type": "code",
   "execution_count": 43,
   "outputs": [
    {
     "data": {
      "text/plain": "[5, 6, 7, 8, 9]"
     },
     "execution_count": 43,
     "metadata": {},
     "output_type": "execute_result"
    }
   ],
   "source": [
    "list(range(5,10))"
   ],
   "metadata": {
    "collapsed": false
   }
  },
  {
   "cell_type": "code",
   "execution_count": 44,
   "outputs": [
    {
     "data": {
      "text/plain": "[0, 3, 6, 9]"
     },
     "execution_count": 44,
     "metadata": {},
     "output_type": "execute_result"
    }
   ],
   "source": [
    "list(range(0,10,3))"
   ],
   "metadata": {
    "collapsed": false
   }
  },
  {
   "cell_type": "code",
   "execution_count": 45,
   "outputs": [
    {
     "name": "stdout",
     "output_type": "stream",
     "text": [
      "0 Mary\n",
      "1 had\n",
      "2 a\n",
      "3 little\n",
      "4 lamb\n"
     ]
    }
   ],
   "source": [
    "a = ['Mary', 'had', 'a', 'little', 'lamb']\n",
    "for i in range(len(a)):\n",
    "    print(i,a[i])"
   ],
   "metadata": {
    "collapsed": false
   }
  },
  {
   "cell_type": "code",
   "execution_count": 46,
   "outputs": [
    {
     "name": "stdout",
     "output_type": "stream",
     "text": [
      "0\n",
      "1\n",
      "2\n",
      "3\n",
      "4\n"
     ]
    }
   ],
   "source": [
    "for i in range(5):\n",
    "    print(i)"
   ],
   "metadata": {
    "collapsed": false
   }
  },
  {
   "cell_type": "markdown",
   "source": [
    "### 4.4 break continue else\n",
    "+ else语句可以用于循环，可迭代循环全部执行完毕或者while的循环条件为假时，执行该语句，break不会执行该语句"
   ],
   "metadata": {
    "collapsed": false
   }
  },
  {
   "cell_type": "code",
   "execution_count": 47,
   "outputs": [
    {
     "name": "stdout",
     "output_type": "stream",
     "text": [
      "2 normal number\n",
      "3 normal number\n",
      "i====j,break\n",
      "5 normal number\n",
      "i====j,break\n",
      "7 normal number\n",
      "i====j,break\n",
      "i====j,break\n"
     ]
    }
   ],
   "source": [
    "for i in range(2,10):\n",
    "    for j in range(2,i):\n",
    "        if i%j == 0:\n",
    "            print('i====j,break')\n",
    "            break\n",
    "    else:\n",
    "        print(i,'normal number')"
   ],
   "metadata": {
    "collapsed": false
   }
  },
  {
   "cell_type": "markdown",
   "source": [
    "### 4.5 pass 语句\n",
    "+ 不执行任何动作，只是语法上需要的一个语句，通常用于创建一个最小的类\n",
    "\n"
   ],
   "metadata": {
    "collapsed": false
   }
  },
  {
   "cell_type": "code",
   "execution_count": 48,
   "outputs": [],
   "source": [
    "class MyEmptyClass:\n",
    "    pass\n"
   ],
   "metadata": {
    "collapsed": false
   }
  },
  {
   "cell_type": "markdown",
   "source": [
    "### 4.6 match语句\n",
    "+ 等同于switch case语句\n"
   ],
   "metadata": {
    "collapsed": false
   }
  },
  {
   "cell_type": "code",
   "execution_count": 49,
   "outputs": [
    {
     "name": "stdout",
     "output_type": "stream",
     "text": [
      "other\n",
      "real other\n"
     ]
    }
   ],
   "source": [
    "def httpError(status):\n",
    "    match status:\n",
    "        case 0:print(0)\n",
    "        case 1:print('other')\n",
    "        case 2|3|4:print('2\\\\3\\\\4')\n",
    "        case _:print('real other')\n",
    "\n",
    "httpError(1)\n",
    "httpError(9)"
   ],
   "metadata": {
    "collapsed": false
   }
  },
  {
   "cell_type": "markdown",
   "source": [
    "### 4.7 定义函数\n",
    "+ 函数在执行时使用函数局部变量符号表，所有函数变量值都存在局部符号表中"
   ],
   "metadata": {
    "collapsed": false
   }
  },
  {
   "cell_type": "code",
   "execution_count": 50,
   "outputs": [
    {
     "name": "stdout",
     "output_type": "stream",
     "text": [
      "0\n",
      "1\n",
      "1\n",
      "2\n",
      "3\n",
      "5\n",
      "\n"
     ]
    }
   ],
   "source": [
    "def fib(n):\n",
    "    \"\"\"\"doc string\"\"\"\n",
    "    a,b = 0,1\n",
    "    while a < n:\n",
    "        print(a)\n",
    "        a,b = b,a+b\n",
    "    print()\n",
    "fib(6)"
   ],
   "metadata": {
    "collapsed": false
   }
  },
  {
   "cell_type": "markdown",
   "source": [
    "### 4.8 函数定义详解\n",
    "+ 默认值只计算一次，为列表字典或者类实例等不可变对象时，会产生不同的结果\n",
    "+ 函数调用时，关键字参数必须跟在位置参数后面，关键字参数的顺序并不重要\n",
    "+ 形参为 ** 形式时接受一个字典，形参为*形式时，接受一个元组\n",
    "+ 特殊参数 * /\n",
    "+ lambda表达式 用于创建小的匿名函数\n",
    "+ 函数注解 标注以字典的形式存放在__annotation__中，形式标注的方式是使用：，返回值标注的形式是加上->,表示其元信息，类型等之类的\n",
    "\n"
   ],
   "metadata": {
    "collapsed": false
   }
  },
  {
   "cell_type": "code",
   "execution_count": 51,
   "outputs": [
    {
     "name": "stdout",
     "output_type": "stream",
     "text": [
      "try again\n",
      "try again\n",
      "try again\n",
      "try again\n",
      "try again\n",
      "try again\n",
      "try again\n",
      "try again\n",
      "try again\n",
      "try again\n",
      "try again\n",
      "try again\n",
      "try again\n",
      "try again\n",
      "try again\n",
      "try again\n",
      "try again\n",
      "try again\n",
      "try again\n",
      "try again\n",
      "try again\n",
      "try again\n",
      "try again\n",
      "try again\n",
      "try again\n",
      "try again\n",
      "try again\n",
      "try again\n",
      "try again\n",
      "try again\n",
      "try again\n",
      "try again\n",
      "try again\n",
      "try again\n",
      "try again\n",
      "try again\n",
      "try again\n",
      "try again\n",
      "try again\n",
      "try again\n",
      "try again\n",
      "try again\n",
      "try again\n",
      "try again\n",
      "try again\n",
      "try again\n",
      "try again\n",
      "try again\n",
      "try again\n",
      "try again\n",
      "try again\n",
      "try again\n",
      "try again\n",
      "try again\n",
      "try again\n",
      "try again\n",
      "try again\n",
      "try again\n",
      "try again\n",
      "try again\n",
      "try again\n",
      "try again\n",
      "try again\n",
      "try again\n",
      "try again\n",
      "try again\n",
      "try again\n",
      "try again\n",
      "try again\n",
      "try again\n",
      "try again\n",
      "try again\n",
      "try again\n",
      "try again\n",
      "try again\n",
      "try again\n",
      "try again\n",
      "try again\n",
      "try again\n",
      "try again\n",
      "try again\n",
      "try again\n",
      "try again\n",
      "try again\n",
      "try again\n",
      "try again\n",
      "try again\n",
      "try again\n",
      "try again\n",
      "try again\n",
      "try again\n",
      "try again\n",
      "try again\n",
      "try again\n",
      "try again\n",
      "try again\n",
      "try again\n",
      "try again\n",
      "try again\n"
     ]
    },
    {
     "data": {
      "text/plain": "True"
     },
     "execution_count": 51,
     "metadata": {},
     "output_type": "execute_result"
    }
   ],
   "source": [
    "def ask_ok(prompt,reties=4,remainder='try again'):\n",
    "    while(True):\n",
    "        ok = input(prompt)\n",
    "        if ok in ['y','ye','yes']:\n",
    "            return True\n",
    "        if ok in ('n', 'no', 'nop', 'nope'):\n",
    "            return False\n",
    "        reties = reties - 1\n",
    "        if reties < 0:\n",
    "            print(remainder)\n",
    "ask_ok(1)\n"
   ],
   "metadata": {
    "collapsed": false
   }
  },
  {
   "cell_type": "code",
   "execution_count": 52,
   "outputs": [
    {
     "name": "stdout",
     "output_type": "stream",
     "text": [
      "[1]\n",
      "[1, 2]\n",
      "[1, 2, 3]\n"
     ]
    }
   ],
   "source": [
    "def f(a,L=[]):\n",
    "    L.append(a)\n",
    "    print(L)\n",
    "f(1)\n",
    "f(2)\n",
    "f(3)"
   ],
   "metadata": {
    "collapsed": false
   }
  },
  {
   "cell_type": "code",
   "execution_count": 53,
   "outputs": [
    {
     "data": {
      "text/plain": "[(4, 'four'), (1, 'one'), (3, 'three'), (2, 'two')]"
     },
     "execution_count": 53,
     "metadata": {},
     "output_type": "execute_result"
    }
   ],
   "source": [
    "pairs = [(1, 'one'), (2, 'two'), (3, 'three'), (4, 'four')]\n",
    "pairs.sort(key=lambda pair:pair[1])\n",
    "pairs"
   ],
   "metadata": {
    "collapsed": false
   }
  },
  {
   "cell_type": "code",
   "execution_count": 54,
   "outputs": [
    {
     "name": "stdout",
     "output_type": "stream",
     "text": [
      "Ananotations {'w': <class 'str'>, 'h': <class 'str'>, 'y': <class 'int'>, 'return': <class 'str'>}\n",
      "Arguments c other wad\n"
     ]
    }
   ],
   "source": [
    "def fana(w:str,h:str='other',y:int='wad')->str:\n",
    "    print(\"Ananotations\",fana.__annotations__)\n",
    "    print(\"Arguments\",w,h,y)\n",
    "fana('c')"
   ],
   "metadata": {
    "collapsed": false
   }
  },
  {
   "cell_type": "markdown",
   "source": [
    "## 5数据结构\n",
    "\n",
    "### 5.1 列表详解\n",
    "+ list.append(x) 末尾追加一个元素\n",
    "+ list.extend(iterable)\n",
    "+ list.inert(index,x)\n",
    "+ list.remove(x) 删除第一个值为x的元素\n",
    "+ list.pop(i)删除指定位置的元素并将其返回，参数是一个列表，参数为空则返回最后一个元素\n",
    "+ list.clear()\n",
    "+ list.index()返回列表中第一个值为x 的索引\n",
    "+ list.count()\n",
    "+ list.sort(*,key=None,reverse=False)\n",
    "+ list.reverse()\n",
    "+ list.copy()浅拷贝\n"
   ],
   "metadata": {
    "collapsed": false
   }
  },
  {
   "cell_type": "code",
   "execution_count": 60,
   "outputs": [
    {
     "data": {
      "text/plain": "[1, 2, 3, 4, 5, 6, 7, 8, 9, 'a']"
     },
     "execution_count": 60,
     "metadata": {},
     "output_type": "execute_result"
    }
   ],
   "source": [
    "# 追加\n",
    "list=[1,2,3,4,5,6,7,8]\n",
    "list.append(9)\n",
    "list[len(list):]=['a']#注意这里需要的是一个迭代器\n",
    "list"
   ],
   "metadata": {
    "collapsed": false
   }
  },
  {
   "cell_type": "code",
   "execution_count": 62,
   "outputs": [
    {
     "data": {
      "text/plain": "[1, 2, 3, 4, 5, 'b', 6, 7, 8, 9, 'a']"
     },
     "execution_count": 62,
     "metadata": {},
     "output_type": "execute_result"
    }
   ],
   "source": [
    "#insert\n",
    "list.insert(5,'b')\n",
    "list"
   ],
   "metadata": {
    "collapsed": false
   }
  },
  {
   "cell_type": "code",
   "execution_count": 64,
   "outputs": [
    {
     "data": {
      "text/plain": "[1, 2, 3, 4, 5, 'b', 6, 7, 8, 9, 'a']"
     },
     "execution_count": 64,
     "metadata": {},
     "output_type": "execute_result"
    }
   ],
   "source": [
    "#remove\n",
    "list.insert(5,'b')\n",
    "list.remove('b')\n",
    "list"
   ],
   "metadata": {
    "collapsed": false
   }
  },
  {
   "cell_type": "code",
   "execution_count": 68,
   "outputs": [
    {
     "data": {
      "text/plain": "6"
     },
     "execution_count": 68,
     "metadata": {},
     "output_type": "execute_result"
    }
   ],
   "source": [
    "# pop\n",
    "r = list.pop(5)# 参数为单一索引\n",
    "r"
   ],
   "metadata": {
    "collapsed": false
   }
  },
  {
   "cell_type": "code",
   "execution_count": 69,
   "outputs": [
    {
     "data": {
      "text/plain": "[]"
     },
     "execution_count": 69,
     "metadata": {},
     "output_type": "execute_result"
    }
   ],
   "source": [
    "#删除\n",
    "list.clear()\n",
    "list\n",
    "del list[:]"
   ],
   "metadata": {
    "collapsed": false
   }
  },
  {
   "cell_type": "code",
   "execution_count": 71,
   "outputs": [
    {
     "data": {
      "text/plain": "3"
     },
     "execution_count": 71,
     "metadata": {},
     "output_type": "execute_result"
    }
   ],
   "source": [
    "list=[1,2,3,4,5,6,7,8,9]\n",
    "r = list.index(4,2,9)#返回的为第一个索引值\n",
    "r"
   ],
   "metadata": {
    "collapsed": false
   }
  },
  {
   "cell_type": "code",
   "execution_count": 72,
   "outputs": [
    {
     "data": {
      "text/plain": "[9, 8, 7, 6, 5, 4, 3, 2, 1]"
     },
     "execution_count": 72,
     "metadata": {},
     "output_type": "execute_result"
    }
   ],
   "source": [
    "list.sort(reverse=True)\n",
    "list"
   ],
   "metadata": {
    "collapsed": false
   }
  },
  {
   "cell_type": "code",
   "execution_count": 76,
   "outputs": [
    {
     "data": {
      "text/plain": "[9, 8, 7, 6, 5, 4, 3, 2, 1]"
     },
     "execution_count": 76,
     "metadata": {},
     "output_type": "execute_result"
    }
   ],
   "source": [
    "list2 = list.copy()\n",
    "list3 = list2[:]\n",
    "list3"
   ],
   "metadata": {
    "collapsed": false
   }
  },
  {
   "cell_type": "code",
   "execution_count": 77,
   "outputs": [
    {
     "data": {
      "text/plain": "[9, 8, 7, 6, 5, 4, 3, 2, 1]"
     },
     "execution_count": 77,
     "metadata": {},
     "output_type": "execute_result"
    }
   ],
   "source": [
    "list3[3] = 999\n",
    "list2# 在切片的地方仔细留意一下"
   ],
   "metadata": {
    "collapsed": false
   }
  },
  {
   "cell_type": "markdown",
   "source": [
    "#### 5.1.1 用列表实现堆栈\n"
   ],
   "metadata": {
    "collapsed": false
   }
  },
  {
   "cell_type": "code",
   "execution_count": 80,
   "outputs": [
    {
     "data": {
      "text/plain": "[2, 3]"
     },
     "execution_count": 80,
     "metadata": {},
     "output_type": "execute_result"
    }
   ],
   "source": [
    "stack = [2,3,4]\n",
    "stack.pop()\n",
    "stack"
   ],
   "metadata": {
    "collapsed": false
   }
  },
  {
   "cell_type": "code",
   "execution_count": 81,
   "outputs": [
    {
     "data": {
      "text/plain": "[2, 3, 6]"
     },
     "execution_count": 81,
     "metadata": {},
     "output_type": "execute_result"
    }
   ],
   "source": [
    "stack.append(6)\n",
    "stack"
   ],
   "metadata": {
    "collapsed": false
   }
  },
  {
   "cell_type": "markdown",
   "source": [
    "#### 5.1.2 用列表实现队列"
   ],
   "metadata": {
    "collapsed": false
   }
  },
  {
   "cell_type": "code",
   "execution_count": 85,
   "outputs": [
    {
     "data": {
      "text/plain": "deque([5, 6, 7])"
     },
     "execution_count": 85,
     "metadata": {},
     "output_type": "execute_result"
    }
   ],
   "source": [
    "from collections import deque\n",
    "queue =deque([4,5,6])\n",
    "queue.append(7)\n",
    "queue.popleft()\n",
    "queue"
   ],
   "metadata": {
    "collapsed": false
   }
  },
  {
   "cell_type": "markdown",
   "source": [
    "#### 5.1.3 列表推导式\n",
    "一个表达式 后面是for子句或者if，表达式结果由子句推导而来"
   ],
   "metadata": {
    "collapsed": false
   }
  },
  {
   "cell_type": "code",
   "execution_count": 87,
   "outputs": [
    {
     "data": {
      "text/plain": "([0, 1, 4, 9, 16, 25, 36, 49, 64, 81], 9)"
     },
     "execution_count": 87,
     "metadata": {},
     "output_type": "execute_result"
    }
   ],
   "source": [
    "squares = []\n",
    "for i in range(10):\n",
    "    squares.append(i**2)\n",
    "squares,i\n",
    "\n",
    "# 此方法在循环接受后i存在,为了降低影响，可以使用下面的方法"
   ],
   "metadata": {
    "collapsed": false
   }
  },
  {
   "cell_type": "code",
   "execution_count": 3,
   "outputs": [
    {
     "name": "stdout",
     "output_type": "stream",
     "text": [
      "Nothing done.\n"
     ]
    },
    {
     "data": {
      "text/plain": "[0, 1, 4, 9, 16, 25, 36, 49, 64, 81]"
     },
     "execution_count": 3,
     "metadata": {},
     "output_type": "execute_result"
    }
   ],
   "source": [
    "%reset\n",
    "squares = list(map(lambda x: x**2, range(10)))\n",
    "squares"
   ],
   "metadata": {
    "collapsed": false
   }
  },
  {
   "cell_type": "code",
   "execution_count": 1,
   "outputs": [
    {
     "data": {
      "text/plain": "[0, 1, 4, 9, 16, 25, 36, 49, 64, 81]"
     },
     "execution_count": 1,
     "metadata": {},
     "output_type": "execute_result"
    }
   ],
   "source": [
    "squares = [x**2 for x in range(10)]#列表推导式\n",
    "squares"
   ],
   "metadata": {
    "collapsed": false
   }
  },
  {
   "cell_type": "code",
   "execution_count": 4,
   "outputs": [
    {
     "data": {
      "text/plain": "[(1, 3), (1, 4), (2, 3), (2, 1), (2, 4), (3, 1), (3, 4)]"
     },
     "execution_count": 4,
     "metadata": {},
     "output_type": "execute_result"
    }
   ],
   "source": [
    "u = list((x,y)  for x in [1,2,3] for y in [3,1,4] if x!=y)\n",
    "u"
   ],
   "metadata": {
    "collapsed": false
   }
  },
  {
   "cell_type": "code",
   "execution_count": 5,
   "outputs": [
    {
     "data": {
      "text/plain": "[[1, 3], [1, 4], [2, 3], [2, 1], [2, 4], [3, 1], [3, 4]]"
     },
     "execution_count": 5,
     "metadata": {},
     "output_type": "execute_result"
    }
   ],
   "source": [
    "p = list([x,y]  for x in [1,2,3] for y in [3,1,4] if x!=y)\n",
    "p"
   ],
   "metadata": {
    "collapsed": false
   }
  },
  {
   "cell_type": "markdown",
   "source": [
    "#### 5.1.4 嵌套的列表推导式"
   ],
   "metadata": {
    "collapsed": false
   }
  },
  {
   "cell_type": "code",
   "execution_count": 9,
   "outputs": [],
   "source": [
    "#不会"
   ],
   "metadata": {
    "collapsed": false
   }
  },
  {
   "cell_type": "markdown",
   "source": [
    "### 5.2 del 语句\n",
    "按索引来删除数据"
   ],
   "metadata": {
    "collapsed": false
   }
  },
  {
   "cell_type": "code",
   "execution_count": 10,
   "outputs": [
    {
     "data": {
      "text/plain": "[1, 2, 4, 5]"
     },
     "execution_count": 10,
     "metadata": {},
     "output_type": "execute_result"
    }
   ],
   "source": [
    "a = [1,2,3,4,5]\n",
    "del a[2:3]\n",
    "a"
   ],
   "metadata": {
    "collapsed": false
   }
  },
  {
   "cell_type": "markdown",
   "source": [
    "### 5.3 元素和序列\n",
    "元组由多个逗号隔开的值组成\n",
    "元素是immutable"
   ],
   "metadata": {
    "collapsed": false
   }
  },
  {
   "cell_type": "code",
   "execution_count": 11,
   "outputs": [
    {
     "data": {
      "text/plain": "(123, 456, 'abf')"
     },
     "execution_count": 11,
     "metadata": {},
     "output_type": "execute_result"
    }
   ],
   "source": [
    "t = 123,456,'abf'\n",
    "t"
   ],
   "metadata": {
    "collapsed": false
   }
  },
  {
   "cell_type": "code",
   "execution_count": 12,
   "outputs": [
    {
     "data": {
      "text/plain": "int"
     },
     "execution_count": 12,
     "metadata": {},
     "output_type": "execute_result"
    }
   ],
   "source": [
    "type(t[0])"
   ],
   "metadata": {
    "collapsed": false
   }
  },
  {
   "cell_type": "code",
   "execution_count": 15,
   "outputs": [
    {
     "data": {
      "text/plain": "(1,)"
     },
     "execution_count": 15,
     "metadata": {},
     "output_type": "execute_result"
    }
   ],
   "source": [
    "#构造0个元素的元组\n",
    "empty = ()\n",
    "# 构造一个元素的元组,丑陋 但是有效\n",
    "singleton = (1,)\n",
    "empty\n",
    "singleton"
   ],
   "metadata": {
    "collapsed": false
   }
  },
  {
   "cell_type": "markdown",
   "source": [
    "### 5.4 集合\n",
    "+ 集合是不重复元素组成的无序容器\n",
    "+ 创建集合使用花括号或者set()函数，空集合只能使用set函数"
   ],
   "metadata": {
    "collapsed": false
   }
  },
  {
   "cell_type": "code",
   "execution_count": 16,
   "outputs": [
    {
     "data": {
      "text/plain": "{'apple', 'banana', 'orange', 'pear'}"
     },
     "execution_count": 16,
     "metadata": {},
     "output_type": "execute_result"
    }
   ],
   "source": [
    "basket = {'apple', 'orange', 'apple', 'pear', 'orange', 'banana'}\n",
    "basket"
   ],
   "metadata": {
    "collapsed": false
   }
  },
  {
   "cell_type": "code",
   "execution_count": 19,
   "outputs": [
    {
     "data": {
      "text/plain": "{3, 4, 5, 6}"
     },
     "execution_count": 19,
     "metadata": {},
     "output_type": "execute_result"
    }
   ],
   "source": [
    "a = set(i for i in range(5))\n",
    "b = set(j for j in range(3,7))\n",
    "b"
   ],
   "metadata": {
    "collapsed": false
   }
  },
  {
   "cell_type": "code",
   "execution_count": 24,
   "outputs": [
    {
     "data": {
      "text/plain": "{3, 4}"
     },
     "execution_count": 24,
     "metadata": {},
     "output_type": "execute_result"
    }
   ],
   "source": [
    "c = a in b\n",
    "c = a | b\n",
    "c = a & b\n",
    "c"
   ],
   "metadata": {
    "collapsed": false
   }
  },
  {
   "cell_type": "markdown",
   "source": [
    "### 5.5 字典\n",
    "+ 关键字通常为字符串或者数字或者其它不可变类型\n",
    "+ 使用{}可以创建空字典，使用dict()创建字典"
   ],
   "metadata": {
    "collapsed": false
   }
  },
  {
   "cell_type": "code",
   "execution_count": 27,
   "outputs": [
    {
     "data": {
      "text/plain": "{'1': 'aaa', 2: 'bbb', '333': 'c'}"
     },
     "execution_count": 27,
     "metadata": {},
     "output_type": "execute_result"
    }
   ],
   "source": [
    "d = dict([('1','aaa'),(2,'bbb'),('333','c')])\n",
    "d"
   ],
   "metadata": {
    "collapsed": false
   }
  },
  {
   "cell_type": "code",
   "execution_count": 28,
   "outputs": [],
   "source": [
    "del d['1']\n"
   ],
   "metadata": {
    "collapsed": false
   }
  },
  {
   "cell_type": "code",
   "execution_count": 29,
   "outputs": [
    {
     "data": {
      "text/plain": "{2: 'bbb', '333': 'c'}"
     },
     "execution_count": 29,
     "metadata": {},
     "output_type": "execute_result"
    }
   ],
   "source": [
    "d"
   ],
   "metadata": {
    "collapsed": false
   }
  },
  {
   "cell_type": "code",
   "execution_count": 30,
   "outputs": [
    {
     "data": {
      "text/plain": "'bbb'"
     },
     "execution_count": 30,
     "metadata": {},
     "output_type": "execute_result"
    }
   ],
   "source": [
    "d[2]"
   ],
   "metadata": {
    "collapsed": false
   }
  },
  {
   "cell_type": "code",
   "execution_count": 31,
   "outputs": [],
   "source": [
    "# 字典推导式创建字典\n",
    "d2 = dict({x:x**2 for x in range(5)})"
   ],
   "metadata": {
    "collapsed": false
   }
  },
  {
   "cell_type": "code",
   "execution_count": 32,
   "outputs": [
    {
     "data": {
      "text/plain": "{0: 0, 1: 1, 2: 4, 3: 9, 4: 16}"
     },
     "execution_count": 32,
     "metadata": {},
     "output_type": "execute_result"
    }
   ],
   "source": [
    "d2"
   ],
   "metadata": {
    "collapsed": false
   }
  },
  {
   "cell_type": "markdown",
   "source": [
    "### 5.6 循环的技巧\n",
    "+ 字典循环时，使用items()可以同时取出键和对应的值\n",
    "+ 在序列中循环时 ，用enumrate()可以同时取出索引和对应的值\n",
    "+ 同时循环两个或者多个序列时，使用zip()可以将其一一匹配\n",
    "+ 使用reversed()逆向循环\n",
    "+ 使用sorted() 排序后循环\n",
    "+ 使用set()无重复循环"
   ],
   "metadata": {
    "collapsed": false
   }
  },
  {
   "cell_type": "code",
   "execution_count": 34,
   "outputs": [
    {
     "data": {
      "text/plain": "{1: 1, 2: 4, 3: 9, 4: 16}"
     },
     "execution_count": 34,
     "metadata": {},
     "output_type": "execute_result"
    }
   ],
   "source": [
    "d3 = {x:x**2 for x in range(1,5)}\n",
    "d3"
   ],
   "metadata": {
    "collapsed": false
   }
  },
  {
   "cell_type": "code",
   "execution_count": 35,
   "outputs": [
    {
     "name": "stdout",
     "output_type": "stream",
     "text": [
      "1 1\n",
      "2 4\n",
      "3 9\n",
      "4 16\n"
     ]
    }
   ],
   "source": [
    "for k,v in d3.items():\n",
    "    print(k,v)\n"
   ],
   "metadata": {
    "collapsed": false
   }
  },
  {
   "cell_type": "code",
   "execution_count": 38,
   "outputs": [
    {
     "name": "stdout",
     "output_type": "stream",
     "text": [
      "0 2\n",
      "1 5\n",
      "2 8\n"
     ]
    }
   ],
   "source": [
    "l = [i for i in range(2,10,3)]\n",
    "\n",
    "for i,v in enumerate(l):\n",
    "    print(i,v)"
   ],
   "metadata": {
    "collapsed": false
   }
  },
  {
   "cell_type": "code",
   "execution_count": null,
   "outputs": [],
   "source": [
    "questions = ['name', 'quest', 'favorite color']\n",
    "answers = ['lancelot', 'the holy grail', 'blue']\n",
    "for q ,a in zip(questions,answers):\n",
    "    print('what is your {0},is{1}'.format(q,a))"
   ],
   "metadata": {
    "collapsed": false,
    "is_executing": true
   }
  },
  {
   "cell_type": "code",
   "execution_count": 2,
   "outputs": [
    {
     "name": "stdout",
     "output_type": "stream",
     "text": [
      "9\n",
      "8\n",
      "7\n",
      "6\n",
      "5\n",
      "4\n",
      "3\n",
      "2\n",
      "1\n"
     ]
    }
   ],
   "source": [
    "l = [i for i in range(1,10)]\n",
    "for i in reversed(l):\n",
    "    print(i)"
   ],
   "metadata": {
    "collapsed": false,
    "ExecuteTime": {
     "end_time": "2023-11-14T12:10:48.073477100Z",
     "start_time": "2023-11-14T12:10:48.051782200Z"
    }
   }
  },
  {
   "cell_type": "code",
   "execution_count": 3,
   "outputs": [
    {
     "name": "stdout",
     "output_type": "stream",
     "text": [
      "1\n",
      "2\n",
      "3\n",
      "4\n",
      "5\n",
      "6\n",
      "7\n",
      "9\n"
     ]
    }
   ],
   "source": [
    "l=[2,5,7,9,1,2,3,4,5,6,7,3,4,7]\n",
    "for i in sorted(set(l)):\n",
    "    print(i)"
   ],
   "metadata": {
    "collapsed": false,
    "ExecuteTime": {
     "end_time": "2023-11-14T12:11:00.703454700Z",
     "start_time": "2023-11-14T12:11:00.698857600Z"
    }
   }
  },
  {
   "cell_type": "markdown",
   "source": [
    "### 5.7 深入条件控制"
   ],
   "metadata": {
    "collapsed": false
   }
  },
  {
   "cell_type": "markdown",
   "source": [
    "### 5.8 序列和其它类型的比较\n",
    "使用字典顺序"
   ],
   "metadata": {
    "collapsed": false
   }
  },
  {
   "cell_type": "markdown",
   "source": [
    "## 6模块\n",
    "python将各种定义存入一个文件，在脚本或者解释器的交互式实例中使用，这个文件就是模块\n",
    "文件名是模块名加上后缀.py\n",
    "通过全局变量__name__获取模块名"
   ],
   "metadata": {
    "collapsed": false
   }
  },
  {
   "cell_type": "code",
   "execution_count": 1,
   "outputs": [
    {
     "name": "stdout",
     "output_type": "stream",
     "text": [
      "__main__\n"
     ]
    }
   ],
   "source": [
    "print(__name__)"
   ],
   "metadata": {
    "collapsed": false,
    "ExecuteTime": {
     "end_time": "2023-11-14T15:17:12.154286600Z",
     "start_time": "2023-11-14T15:17:12.136470500Z"
    }
   }
  },
  {
   "cell_type": "markdown",
   "source": [
    "### 6.1 模块详解\n",
    "+ 模块包含可执行语句及函数定义，这些语句用于初始化模块，仅在import语句第一次遇到模块名时执行"
   ],
   "metadata": {
    "collapsed": false
   }
  },
  {
   "cell_type": "markdown",
   "source": [
    "#### 6.1.1 以脚本方式执行模块\n",
    "#### 6.1.2 模块搜索路径\n",
    "+ 当一个模块导入时，解释器首先搜索具有该名称的内置模块，位于sys.built_module_names\n",
    "+ 如果没有找到，在sys.path中寻找，脚本所在的目录、PYTHONPATH、安装目录site模块处理\n",
    "#### 6.1.3 已编译的python文件\n",
    "+ 为了快速加载模块，将模块的编译版本缓存在__python_cache__目录中，文件名为module.version.pyc\n",
    "### 6.2 标准模块 sys\n",
    "### 6.3 dir()函数\n",
    "用于查找模块定义的名称\n",
    "### 6.4 包"
   ],
   "metadata": {
    "collapsed": false
   }
  }
 ],
 "metadata": {
  "kernelspec": {
   "display_name": "Python 3",
   "language": "python",
   "name": "python3"
  },
  "language_info": {
   "codemirror_mode": {
    "name": "ipython",
    "version": 2
   },
   "file_extension": ".py",
   "mimetype": "text/x-python",
   "name": "python",
   "nbconvert_exporter": "python",
   "pygments_lexer": "ipython2",
   "version": "2.7.6"
  }
 },
 "nbformat": 4,
 "nbformat_minor": 0
}
