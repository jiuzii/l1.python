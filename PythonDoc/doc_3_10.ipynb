{
 "cells": [
  {
   "cell_type": "markdown",
   "source": [
    "## 3.10版本官方文档\n",
    "### 2 Python 解释器\n",
    "通常位于 /usr/local/bin/python3.10目录下\n",
    "\n",
    "### 3 Python 速览\n",
    "#### 3.1 用作计算器"
   ],
   "metadata": {
    "collapsed": false
   }
  },
  {
   "cell_type": "markdown",
   "source": [
    "+ 除法运算总是返回浮点数，使用// 进行floor division 计算余数使用%\n",
    "+ 使用 ** 进行平方运算\n",
    "+ 进行混合运算时会将整数转化为浮点数\n",
    "+ 交互模式下，上次输出的表达式会赋值给变量_\n"
   ],
   "metadata": {
    "collapsed": false
   }
  },
  {
   "cell_type": "code",
   "execution_count": 3,
   "outputs": [
    {
     "data": {
      "text/plain": "5"
     },
     "execution_count": 3,
     "metadata": {},
     "output_type": "execute_result"
    }
   ],
   "source": [
    "17//3"
   ],
   "metadata": {
    "collapsed": false
   }
  },
  {
   "cell_type": "code",
   "execution_count": 4,
   "outputs": [
    {
     "data": {
      "text/plain": "2"
     },
     "execution_count": 4,
     "metadata": {},
     "output_type": "execute_result"
    }
   ],
   "source": [
    "17 % 3"
   ],
   "metadata": {
    "collapsed": false
   }
  },
  {
   "cell_type": "code",
   "execution_count": 5,
   "outputs": [
    {
     "data": {
      "text/plain": "128"
     },
     "execution_count": 5,
     "metadata": {},
     "output_type": "execute_result"
    }
   ],
   "source": [
    "2 ** 7"
   ],
   "metadata": {
    "collapsed": false
   }
  },
  {
   "cell_type": "code",
   "execution_count": 6,
   "outputs": [
    {
     "data": {
      "text/plain": "12.5625"
     },
     "execution_count": 6,
     "metadata": {},
     "output_type": "execute_result"
    }
   ],
   "source": [
    "tax = 12.5/100\n",
    "price = 100.50\n",
    "price * tax"
   ],
   "metadata": {
    "collapsed": false
   }
  },
  {
   "cell_type": "code",
   "execution_count": 7,
   "outputs": [
    {
     "data": {
      "text/plain": "113.0625"
     },
     "execution_count": 7,
     "metadata": {},
     "output_type": "execute_result"
    }
   ],
   "source": [
    "price + _"
   ],
   "metadata": {
    "collapsed": false
   }
  },
  {
   "cell_type": "markdown",
   "source": [
    "##### 3.12 字符串操作\n",
    "+ 使用转义字符与使用r原始字符串\n",
    "+ 字符串可以使用+合并，可以使用*复制,相邻的字符串字面值会自动合并\n",
    "+ 索引从0开始，支持负数（从右边开始计数）\n",
    "+ 切片[:] 索引越界会报错，但是切片会自动处理\n",
    "+ 字符串不能修改，是immutable，len()返回长度\n",
    "\n"
   ],
   "metadata": {
    "collapsed": false
   }
  },
  {
   "cell_type": "code",
   "execution_count": 8,
   "outputs": [
    {
     "name": "stdout",
     "output_type": "stream",
     "text": [
      " \"some thing\" \n"
     ]
    }
   ],
   "source": [
    "print(' \\\"some thing\\\" ')"
   ],
   "metadata": {
    "collapsed": false
   }
  },
  {
   "cell_type": "code",
   "execution_count": 9,
   "outputs": [
    {
     "name": "stdout",
     "output_type": "stream",
     "text": [
      "r some \\thing\n"
     ]
    }
   ],
   "source": [
    "print( r'r some \\thing')"
   ],
   "metadata": {
    "collapsed": false
   }
  },
  {
   "cell_type": "code",
   "execution_count": 14,
   "outputs": [
    {
     "name": "stdout",
     "output_type": "stream",
     "text": [
      "P n n\n"
     ]
    }
   ],
   "source": [
    "'py'+'thon'\n",
    "3*'py'\n",
    "'123' '456'\n",
    "word = 'Python'\n",
    "print(word[0],word[5],word[-1])"
   ],
   "metadata": {
    "collapsed": false
   }
  },
  {
   "cell_type": "markdown",
   "source": [
    "##### 3.1.3 列表\n",
    "支持多种复合数据类型 可将不同值组合在一起，和字符串一样，也支持索引和切片,切片操作返回列表的浅拷贝\n",
    "+ 支持合并操作 使用+号即可\n",
    "+ 列表是mutable类型，可以修改\n",
    "+ append()在末尾添加元素\n",
    "+ 为切片赋值可以改变列表大小，甚至清空整个列表\n"
   ],
   "metadata": {
    "collapsed": false
   }
  },
  {
   "cell_type": "code",
   "execution_count": 17,
   "outputs": [
    {
     "data": {
      "text/plain": "[9, 16, 25]"
     },
     "execution_count": 17,
     "metadata": {},
     "output_type": "execute_result"
    }
   ],
   "source": [
    "squares = [1,4,9,16,25]\n",
    "squares[3]\n",
    "squares[-3:]"
   ],
   "metadata": {
    "collapsed": false
   }
  },
  {
   "cell_type": "code",
   "execution_count": 18,
   "outputs": [
    {
     "data": {
      "text/plain": "['a', 'b', 'f', 'g']"
     },
     "execution_count": 18,
     "metadata": {},
     "output_type": "execute_result"
    }
   ],
   "source": [
    "letters = ['a','b','c','d','e','f','g']\n",
    "letters[2:5] = []\n",
    "letters"
   ],
   "metadata": {
    "collapsed": false
   }
  },
  {
   "cell_type": "code",
   "execution_count": null,
   "outputs": [],
   "source": [],
   "metadata": {
    "collapsed": false
   }
  }
 ],
 "metadata": {
  "kernelspec": {
   "display_name": "Python 3",
   "language": "python",
   "name": "python3"
  },
  "language_info": {
   "codemirror_mode": {
    "name": "ipython",
    "version": 2
   },
   "file_extension": ".py",
   "mimetype": "text/x-python",
   "name": "python",
   "nbconvert_exporter": "python",
   "pygments_lexer": "ipython2",
   "version": "2.7.6"
  }
 },
 "nbformat": 4,
 "nbformat_minor": 0
}
