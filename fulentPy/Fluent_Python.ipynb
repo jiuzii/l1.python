{
 "cells": [
  {
   "cell_type": "markdown",
   "source": [
    "# 第一章 Python数据模型\n",
    "+ 为什么获取容器大小不使用collection.len()，而是使用len(collection)\n",
    "+ python是一个框架，数据模型是对框架的描述，规范各种行为\n",
    "+ 使用框架需要编写方法，供给框架调用"
   ],
   "metadata": {
    "collapsed": false
   }
  },
  {
   "cell_type": "markdown",
   "source": [
    "## 1.2 Python风格的纸牌\n",
    "+ 通过特殊方法利用Python数据模型，类的用户可以不需要记住标准操作的方法的名称，比如size length等\n",
    "+ 可以充分利用Python标准库，比如choice等\n",
    "+ 由于getitem的实现，可以使用切片，迭代，反向迭代"
   ],
   "metadata": {
    "collapsed": false
   }
  },
  {
   "cell_type": "code",
   "execution_count": 4,
   "outputs": [],
   "source": [
    "import collections\n",
    "Card = collections.namedtuple('Card',['rank','suit'])\n",
    "class FrenchDeck:\n",
    "    ranks = [str(n) for n in range(2,11)]+list('JQKA')\n",
    "    suits = 'spades diamonds clubs hearts'.split()\n",
    "    def __init__(self):\n",
    "        self._cards = [Card(rank,suit) for suit in self.suits\n",
    "                      for rank in self.ranks ]\n",
    "    def __len__(self):\n",
    "        return len(self._cards)\n",
    "    def __getitem__(self,position):\n",
    "        return self._cards[position]"
   ],
   "metadata": {
    "collapsed": false
   }
  },
  {
   "cell_type": "code",
   "execution_count": 5,
   "outputs": [
    {
     "data": {
      "text/plain": "Card(rank='7', suit='diamonds')"
     },
     "execution_count": 5,
     "metadata": {},
     "output_type": "execute_result"
    }
   ],
   "source": [
    "beer_card = Card('7','diamonds')\n",
    "beer_card"
   ],
   "metadata": {
    "collapsed": false
   }
  },
  {
   "cell_type": "code",
   "execution_count": 6,
   "outputs": [
    {
     "data": {
      "text/plain": "52"
     },
     "execution_count": 6,
     "metadata": {},
     "output_type": "execute_result"
    }
   ],
   "source": [
    "deck = FrenchDeck()\n",
    "len(deck)"
   ],
   "metadata": {
    "collapsed": false
   }
  },
  {
   "cell_type": "code",
   "execution_count": 7,
   "outputs": [
    {
     "data": {
      "text/plain": "Card(rank='2', suit='spades')"
     },
     "execution_count": 7,
     "metadata": {},
     "output_type": "execute_result"
    }
   ],
   "source": [
    "deck[0]"
   ],
   "metadata": {
    "collapsed": false
   }
  },
  {
   "cell_type": "code",
   "execution_count": 8,
   "outputs": [
    {
     "data": {
      "text/plain": "Card(rank='9', suit='clubs')"
     },
     "execution_count": 8,
     "metadata": {},
     "output_type": "execute_result"
    }
   ],
   "source": [
    "from random import choice\n",
    "choice(deck)"
   ],
   "metadata": {
    "collapsed": false
   }
  },
  {
   "cell_type": "code",
   "execution_count": 9,
   "outputs": [
    {
     "data": {
      "text/plain": "[Card(rank='2', suit='spades'),\n Card(rank='3', suit='spades'),\n Card(rank='4', suit='spades')]"
     },
     "execution_count": 9,
     "metadata": {},
     "output_type": "execute_result"
    }
   ],
   "source": [
    "deck[:3] #切片"
   ],
   "metadata": {
    "collapsed": false
   }
  },
  {
   "cell_type": "code",
   "execution_count": 10,
   "outputs": [
    {
     "name": "stdout",
     "output_type": "stream",
     "text": [
      "Card(rank='2', suit='spades')\n",
      "Card(rank='A', suit='hearts')\n"
     ]
    }
   ],
   "source": [
    "for d in deck:\n",
    "    print(d)\n",
    "    break\n",
    "for d in reversed(deck):\n",
    "    print(d)\n",
    "    break"
   ],
   "metadata": {
    "collapsed": false
   }
  },
  {
   "cell_type": "markdown",
   "source": [
    "## 1.3 特殊方法是如何使用的\n",
    "+ 特殊方法供Python解释器调用，而不是自己\n",
    "+ 如果Myobject是用户自定义的类的实例，那么Python将调用你实现的__len__方法\n",
    "+ 如果是内置类型，list、str、Numpy等，Python会抄近路，会读取PyVarObject中的ob_size的值\n",
    "+ __init__是个例外，可能会经常调用它来调取超类的初始化方法"
   ],
   "metadata": {
    "collapsed": false
   }
  },
  {
   "cell_type": "code",
   "execution_count": 11,
   "outputs": [
    {
     "data": {
      "text/plain": "Vector(4,5)"
     },
     "execution_count": 11,
     "metadata": {},
     "output_type": "execute_result"
    }
   ],
   "source": [
    "import math\n",
    "class Vector:\n",
    "    def __init__(self,x=0,y=0):\n",
    "        self.x = x\n",
    "        self.y = y\n",
    "    def __repr__(self):\n",
    "        return f'Vector({self.x!r},{self.y!r})'#使用!r以标准形式显示属性\n",
    "    def __abs__(self):\n",
    "        return math.hypot(self.x,self.y)\n",
    "    def __bool__(self):\n",
    "        return bool(abs(self))\n",
    "    def __add__(self, other):\n",
    "        x = self.x+other.x\n",
    "        y = self.y+other.y\n",
    "        return Vector(x,y)\n",
    "    def __mul__(self, scalar):\n",
    "        return Vector(self.x*scalar,self.y*scalar)\n",
    "\n",
    "V1 = Vector(2,4)\n",
    "V2 = Vector(2,1)\n",
    "V1+V2\n"
   ],
   "metadata": {
    "collapsed": false
   }
  },
  {
   "cell_type": "markdown",
   "source": [
    "### 1.3.2 字符串表示形式\n",
    "+ 特殊方法__repr__供内置函数repr调用，获取对象的字符串表示，如果没有定义，显示为特殊形式\n",
    "+ 特殊方法__str__供内置函数str()调用，返回终端用户友好的字符串\n",
    "### 1.3.3 自定义类型的布尔值\n",
    "+ 默认情况下，用户自定义类型的实例都是真值，除非实现了__bool__或者__len__方法，先以bool()的结果为准，如果没有定义__bool__，那么以len()的结果为准\n",
    "### 1.3.4 容器API\n",
    "+ 顶部三个抽象基类Iterable Sized Container只有一个特殊方法，Collection统一了这三个接口\n",
    "+ Iterable要支持for 拆包和其它迭代方式\n",
    "+ Sized要支持内置函数len()\n",
    "+ Container 要支持in运算符\n",
    "## 1.5 len为什么不是方法\n",
    "\n"
   ],
   "metadata": {
    "collapsed": false
   }
  }
 ],
 "metadata": {
  "kernelspec": {
   "display_name": "Python 3",
   "language": "python",
   "name": "python3"
  },
  "language_info": {
   "codemirror_mode": {
    "name": "ipython",
    "version": 2
   },
   "file_extension": ".py",
   "mimetype": "text/x-python",
   "name": "python",
   "nbconvert_exporter": "python",
   "pygments_lexer": "ipython2",
   "version": "2.7.6"
  }
 },
 "nbformat": 4,
 "nbformat_minor": 0
}
